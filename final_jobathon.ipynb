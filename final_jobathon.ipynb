{
  "nbformat": 4,
  "nbformat_minor": 0,
  "metadata": {
    "colab": {
      "provenance": [],
      "collapsed_sections": [],
      "authorship_tag": "ABX9TyPjwGvzVpVTUDR4KwE62fTB",
      "include_colab_link": true
    },
    "kernelspec": {
      "name": "python3",
      "display_name": "Python 3"
    },
    "language_info": {
      "name": "python"
    }
  },
  "cells": [
    {
      "cell_type": "markdown",
      "metadata": {
        "id": "view-in-github",
        "colab_type": "text"
      },
      "source": [
        "<a href=\"https://colab.research.google.com/github/pcbzmani/PySpark-Examples/blob/main/final_jobathon.ipynb\" target=\"_parent\"><img src=\"https://colab.research.google.com/assets/colab-badge.svg\" alt=\"Open In Colab\"/></a>"
      ]
    },
    {
      "cell_type": "code",
      "execution_count": 1,
      "metadata": {
        "colab": {
          "base_uri": "https://localhost:8080/"
        },
        "id": "quDZixQL-tU8",
        "outputId": "7c268dbd-e43f-4f59-dc86-2d33be1402f3"
      },
      "outputs": [
        {
          "output_type": "stream",
          "name": "stdout",
          "text": [
            "Looking in indexes: https://pypi.org/simple, https://us-python.pkg.dev/colab-wheels/public/simple/\n",
            "Collecting pyspark\n",
            "  Downloading pyspark-3.3.0.tar.gz (281.3 MB)\n",
            "\u001b[K     |████████████████████████████████| 281.3 MB 39 kB/s \n",
            "\u001b[?25hCollecting py4j==0.10.9.5\n",
            "  Downloading py4j-0.10.9.5-py2.py3-none-any.whl (199 kB)\n",
            "\u001b[K     |████████████████████████████████| 199 kB 54.5 MB/s \n",
            "\u001b[?25hBuilding wheels for collected packages: pyspark\n",
            "  Building wheel for pyspark (setup.py) ... \u001b[?25l\u001b[?25hdone\n",
            "  Created wheel for pyspark: filename=pyspark-3.3.0-py2.py3-none-any.whl size=281764026 sha256=ab309e824cc5678edeb97df7347f7b0b2b05939612ab46f884828742cafc1fe4\n",
            "  Stored in directory: /root/.cache/pip/wheels/7a/8e/1b/f73a52650d2e5f337708d9f6a1750d451a7349a867f928b885\n",
            "Successfully built pyspark\n",
            "Installing collected packages: py4j, pyspark\n",
            "Successfully installed py4j-0.10.9.5 pyspark-3.3.0\n"
          ]
        }
      ],
      "source": [
        "!pip install pyspark"
      ]
    },
    {
      "cell_type": "code",
      "source": [
        "from google.colab import drive\n",
        "drive.mount('/content/drive')"
      ],
      "metadata": {
        "colab": {
          "base_uri": "https://localhost:8080/"
        },
        "id": "gMPMvjMI-vqG",
        "outputId": "72e763ba-8b50-4576-d9d4-17a4098bc1fd"
      },
      "execution_count": 2,
      "outputs": [
        {
          "output_type": "stream",
          "name": "stdout",
          "text": [
            "Mounted at /content/drive\n"
          ]
        }
      ]
    },
    {
      "cell_type": "code",
      "source": [
        "from pyspark.sql import SparkSession\n",
        "spark = SparkSession.builder\\\n",
        "        .master(\"local\")\\\n",
        "        .appName(\"jobathon\")\\\n",
        "        .config('spark.ui.port', '4040')\\\n",
        "        .getOrCreate()"
      ],
      "metadata": {
        "id": "_YgHhsmC-xea"
      },
      "execution_count": 3,
      "outputs": []
    },
    {
      "cell_type": "code",
      "source": [
        "# Import libraries\n",
        "import pyspark.sql.functions as F\n",
        "from pyspark.sql.window import Window\n",
        "\n",
        "# Function input - spark object, click data path, resolved data path\n",
        "# Function output - final spark dataframe\n",
        "def sample_function(spark, s3_clickstream_path, s3_login_path):\n",
        "  df_clickstream =  spark.read.format(\"json\").load(s3_clickstream_path)\n",
        "  user_mapping =  spark.read.format(\"csv\").option(\"header\",True).load(s3_login_path)\n",
        "  \n",
        "  # Join Clickstream with user mapping to Identify the User already registered\n",
        "  df = df_clickstream.join(\n",
        "    user_mapping,\n",
        "    'session_id',\n",
        "    'left_outer'\n",
        "  ) \n",
        "\n",
        "  # Sine the client_side_data is STRUCT, using getField to extract URL and timespend\n",
        "\n",
        "  df = df.withColumn('client_page_url', F.col('client_side_data').getField(\"current_page_url\"))\\\n",
        "       .withColumn('time_elapsed',F.col('client_side_data').getField(\"time_elapsed\"))\\\n",
        "       .withColumn('current_date',F.split('event_date_time',' ')[0])\\\n",
        "       .drop('client_side_data')\n",
        "\n",
        "  #Agg the clickstream for user on a particular date\n",
        "  df_grp = df.groupBy('user_id','current_date','browser_id')\\\n",
        "           .pivot('event_type').agg({'event_type':'count'})\n",
        "  \n",
        "  df = df.join(\n",
        "    df_grp,\n",
        "    ['user_id','current_date','browser_id'],\n",
        "    'left_outer'\n",
        "  )\n",
        "  \n",
        "  #Window Spec\n",
        "  window_spec = Window\\\n",
        "              .partitionBy('user_id','current_date','browser_id')\\\n",
        "              .orderBy(F.col('event_date_time').asc())\n",
        "\n",
        "  df = df.withColumn('logged_in',F.when(F.col('pageload')>0,F.lit(1))\\\n",
        "                               .otherwise(F.lit('0')))\\\n",
        "        .withColumn('row_number',F.row_number().over(window_spec))\\\n",
        "       .filter('row_number == 1')\\\n",
        "       .withColumn('pageload',F.coalesce(F.col('pageload'),F.lit(0))) \\\n",
        "       .withColumn('click',F.coalesce(F.col('click'),F.lit(0))) \\\n",
        "       .select('current_date','browser_id','user_id','logged_in',F.col('client_page_url').alias('first_url'),\\\n",
        "                F.col('click').alias('number_of_clicks'), F.col('pageload').alias('number_of_pageloads'))\n",
        "  \n",
        "\t\n",
        "\t# Return your final spark df\n",
        "  return df"
      ],
      "metadata": {
        "id": "ypLTR3Pq-0ZV"
      },
      "execution_count": 17,
      "outputs": []
    },
    {
      "cell_type": "code",
      "source": [
        "result_df = sample_function(spark,'/content/drive/MyDrive/JobaThon_Sep_2022/jobathon_click_data.json','/content/drive/MyDrive/JobaThon_Sep_2022/jobathon_login_data.csv')"
      ],
      "metadata": {
        "id": "vDOswZJG-22t"
      },
      "execution_count": 18,
      "outputs": []
    },
    {
      "cell_type": "code",
      "source": [
        "result_df.summary().show()"
      ],
      "metadata": {
        "colab": {
          "base_uri": "https://localhost:8080/"
        },
        "id": "WSAGZeisdN1Q",
        "outputId": "ab156f34-36eb-4b85-c6c1-9247d600f908"
      },
      "execution_count": 7,
      "outputs": [
        {
          "output_type": "stream",
          "name": "stdout",
          "text": [
            "+-------+------------+--------------------+-------------+------------------+--------------------+------------------+-------------------+\n",
            "|summary|current_date|          browser_id|      user_id|         logged_in|           first_url|  number_of_clicks|number_of_pageloads|\n",
            "+-------+------------+--------------------+-------------+------------------+--------------------+------------------+-------------------+\n",
            "|  count|       14393|               14393|        14393|             14393|               14393|             14393|              14393|\n",
            "|   mean|        null|                null|     Infinity|0.7295907732925728|                null| 5.417355659000903| 1.4812061418745224|\n",
            "| stddev|        null|                null|          NaN|0.4441866555801319|                null|11.122998300836665| 1.8109505368604233|\n",
            "|    min|  2022-07-31|0017kL71WJc4PlnUd...|   1000000406|                 0|https://www.gosho...|                 0|                  0|\n",
            "|    25%|        null|                null| 4.00000513E8|               0.0|                null|                 1|                  0|\n",
            "|    50%|        null|                null| 1.60000055E9|               1.0|                null|                 2|                  1|\n",
            "|    75%|        null|                null|2.800000498E9|               1.0|                null|                 6|                  2|\n",
            "|    max|  2022-08-10|zzk3zkMIq5A7y4GUr...|    E00001CC1|                 1|https://www.gosho...|               630|                 52|\n",
            "+-------+------------+--------------------+-------------+------------------+--------------------+------------------+-------------------+\n",
            "\n"
          ]
        }
      ]
    },
    {
      "cell_type": "code",
      "source": [],
      "metadata": {
        "id": "jQeHX8vMbxmw"
      },
      "execution_count": null,
      "outputs": []
    }
  ]
}